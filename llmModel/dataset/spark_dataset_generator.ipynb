{
  "nbformat": 4,
  "nbformat_minor": 0,
  "metadata": {
    "colab": {
      "cell_execution_strategy": "setup",
      "provenance": []
    },
    "kernelspec": {
      "name": "python3",
      "display_name": "Python 3"
    },
    "language_info": {
      "name": "python"
    }
  },
  "cells": [
    {
      "cell_type": "code",
      "source": [
        "# %%\n",
        "# INSTALL DEPENDENCIES\n",
        "%pip install --upgrade google-cloud-aiplatform vertexai google-auth python-dotenv"
      ],
      "metadata": {
        "id": "p2NN8wwF7YRa",
        "colab": {
          "base_uri": "https://localhost:8080/"
        },
        "outputId": "2c122091-2c18-4a83-a44b-2b39df6cceab"
      },
      "execution_count": 1,
      "outputs": [
        {
          "output_type": "stream",
          "name": "stdout",
          "text": [
            "Requirement already satisfied: google-cloud-aiplatform in /usr/local/lib/python3.11/dist-packages (1.71.1)\n",
            "Collecting google-cloud-aiplatform\n",
            "  Using cached google_cloud_aiplatform-1.113.0-py2.py3-none-any.whl.metadata (40 kB)\n",
            "Requirement already satisfied: vertexai in /usr/local/lib/python3.11/dist-packages (1.71.1)\n",
            "Requirement already satisfied: google-auth in /usr/local/lib/python3.11/dist-packages (2.40.3)\n",
            "Requirement already satisfied: python-dotenv in /usr/local/lib/python3.11/dist-packages (1.1.1)\n",
            "Requirement already satisfied: google-api-core!=2.0.*,!=2.1.*,!=2.2.*,!=2.3.*,!=2.4.*,!=2.5.*,!=2.6.*,!=2.7.*,<3.0.0,>=1.34.1 in /usr/local/lib/python3.11/dist-packages (from google-api-core[grpc]!=2.0.*,!=2.1.*,!=2.2.*,!=2.3.*,!=2.4.*,!=2.5.*,!=2.6.*,!=2.7.*,<3.0.0,>=1.34.1->google-cloud-aiplatform) (2.25.1)\n",
            "Requirement already satisfied: proto-plus<2.0.0,>=1.22.3 in /usr/local/lib/python3.11/dist-packages (from google-cloud-aiplatform) (1.26.1)\n",
            "Requirement already satisfied: protobuf!=4.21.0,!=4.21.1,!=4.21.2,!=4.21.3,!=4.21.4,!=4.21.5,<7.0.0,>=3.20.2 in /usr/local/lib/python3.11/dist-packages (from google-cloud-aiplatform) (5.29.5)\n",
            "Requirement already satisfied: packaging>=14.3 in /usr/local/lib/python3.11/dist-packages (from google-cloud-aiplatform) (25.0)\n",
            "Requirement already satisfied: google-cloud-storage<3.0.0,>=1.32.0 in /usr/local/lib/python3.11/dist-packages (from google-cloud-aiplatform) (2.19.0)\n",
            "Requirement already satisfied: google-cloud-bigquery!=3.20.0,<4.0.0,>=1.15.0 in /usr/local/lib/python3.11/dist-packages (from google-cloud-aiplatform) (3.35.1)\n",
            "Requirement already satisfied: google-cloud-resource-manager<3.0.0,>=1.3.3 in /usr/local/lib/python3.11/dist-packages (from google-cloud-aiplatform) (1.14.2)\n",
            "Requirement already satisfied: shapely<3.0.0 in /usr/local/lib/python3.11/dist-packages (from google-cloud-aiplatform) (2.1.1)\n",
            "Requirement already satisfied: google-genai<2.0.0,>=1.0.0 in /usr/local/lib/python3.11/dist-packages (from google-cloud-aiplatform) (1.29.0)\n",
            "Requirement already satisfied: pydantic<3 in /usr/local/lib/python3.11/dist-packages (from google-cloud-aiplatform) (2.11.7)\n",
            "Requirement already satisfied: typing_extensions in /usr/local/lib/python3.11/dist-packages (from google-cloud-aiplatform) (4.14.1)\n",
            "Requirement already satisfied: docstring_parser<1 in /usr/local/lib/python3.11/dist-packages (from google-cloud-aiplatform) (0.17.0)\n",
            "\u001b[33mWARNING: google-cloud-aiplatform 1.71.1 does not provide the extra 'all'\u001b[0m\u001b[33m\n",
            "\u001b[0mRequirement already satisfied: cachetools<6.0,>=2.0.0 in /usr/local/lib/python3.11/dist-packages (from google-auth) (5.5.2)\n",
            "Requirement already satisfied: pyasn1-modules>=0.2.1 in /usr/local/lib/python3.11/dist-packages (from google-auth) (0.4.2)\n",
            "Requirement already satisfied: rsa<5,>=3.1.4 in /usr/local/lib/python3.11/dist-packages (from google-auth) (4.9.1)\n",
            "Requirement already satisfied: googleapis-common-protos<2.0.0,>=1.56.2 in /usr/local/lib/python3.11/dist-packages (from google-api-core!=2.0.*,!=2.1.*,!=2.2.*,!=2.3.*,!=2.4.*,!=2.5.*,!=2.6.*,!=2.7.*,<3.0.0,>=1.34.1->google-api-core[grpc]!=2.0.*,!=2.1.*,!=2.2.*,!=2.3.*,!=2.4.*,!=2.5.*,!=2.6.*,!=2.7.*,<3.0.0,>=1.34.1->google-cloud-aiplatform) (1.70.0)\n",
            "Requirement already satisfied: requests<3.0.0,>=2.18.0 in /usr/local/lib/python3.11/dist-packages (from google-api-core!=2.0.*,!=2.1.*,!=2.2.*,!=2.3.*,!=2.4.*,!=2.5.*,!=2.6.*,!=2.7.*,<3.0.0,>=1.34.1->google-api-core[grpc]!=2.0.*,!=2.1.*,!=2.2.*,!=2.3.*,!=2.4.*,!=2.5.*,!=2.6.*,!=2.7.*,<3.0.0,>=1.34.1->google-cloud-aiplatform) (2.32.3)\n",
            "Requirement already satisfied: grpcio<2.0.0,>=1.33.2 in /usr/local/lib/python3.11/dist-packages (from google-api-core[grpc]!=2.0.*,!=2.1.*,!=2.2.*,!=2.3.*,!=2.4.*,!=2.5.*,!=2.6.*,!=2.7.*,<3.0.0,>=1.34.1->google-cloud-aiplatform) (1.74.0)\n",
            "Requirement already satisfied: grpcio-status<2.0.0,>=1.33.2 in /usr/local/lib/python3.11/dist-packages (from google-api-core[grpc]!=2.0.*,!=2.1.*,!=2.2.*,!=2.3.*,!=2.4.*,!=2.5.*,!=2.6.*,!=2.7.*,<3.0.0,>=1.34.1->google-cloud-aiplatform) (1.71.2)\n",
            "Requirement already satisfied: google-cloud-core<3.0.0,>=2.4.1 in /usr/local/lib/python3.11/dist-packages (from google-cloud-bigquery!=3.20.0,<4.0.0,>=1.15.0->google-cloud-aiplatform) (2.4.3)\n",
            "Requirement already satisfied: google-resumable-media<3.0.0,>=2.0.0 in /usr/local/lib/python3.11/dist-packages (from google-cloud-bigquery!=3.20.0,<4.0.0,>=1.15.0->google-cloud-aiplatform) (2.7.2)\n",
            "Requirement already satisfied: python-dateutil<3.0.0,>=2.8.2 in /usr/local/lib/python3.11/dist-packages (from google-cloud-bigquery!=3.20.0,<4.0.0,>=1.15.0->google-cloud-aiplatform) (2.9.0.post0)\n",
            "Requirement already satisfied: grpc-google-iam-v1<1.0.0,>=0.14.0 in /usr/local/lib/python3.11/dist-packages (from google-cloud-resource-manager<3.0.0,>=1.3.3->google-cloud-aiplatform) (0.14.2)\n",
            "Requirement already satisfied: google-crc32c<2.0dev,>=1.0 in /usr/local/lib/python3.11/dist-packages (from google-cloud-storage<3.0.0,>=1.32.0->google-cloud-aiplatform) (1.7.1)\n",
            "Requirement already satisfied: pyasn1<0.7.0,>=0.6.1 in /usr/local/lib/python3.11/dist-packages (from pyasn1-modules>=0.2.1->google-auth) (0.6.1)\n",
            "Requirement already satisfied: annotated-types>=0.6.0 in /usr/local/lib/python3.11/dist-packages (from pydantic<3->google-cloud-aiplatform) (0.7.0)\n",
            "Requirement already satisfied: pydantic-core==2.33.2 in /usr/local/lib/python3.11/dist-packages (from pydantic<3->google-cloud-aiplatform) (2.33.2)\n",
            "Requirement already satisfied: typing-inspection>=0.4.0 in /usr/local/lib/python3.11/dist-packages (from pydantic<3->google-cloud-aiplatform) (0.4.1)\n",
            "Requirement already satisfied: numpy>=1.21 in /usr/local/lib/python3.11/dist-packages (from shapely<3.0.0->google-cloud-aiplatform) (2.0.2)\n",
            "Requirement already satisfied: six>=1.5 in /usr/local/lib/python3.11/dist-packages (from python-dateutil<3.0.0,>=2.8.2->google-cloud-bigquery!=3.20.0,<4.0.0,>=1.15.0->google-cloud-aiplatform) (1.17.0)\n",
            "Requirement already satisfied: charset-normalizer<4,>=2 in /usr/local/lib/python3.11/dist-packages (from requests<3.0.0,>=2.18.0->google-api-core!=2.0.*,!=2.1.*,!=2.2.*,!=2.3.*,!=2.4.*,!=2.5.*,!=2.6.*,!=2.7.*,<3.0.0,>=1.34.1->google-api-core[grpc]!=2.0.*,!=2.1.*,!=2.2.*,!=2.3.*,!=2.4.*,!=2.5.*,!=2.6.*,!=2.7.*,<3.0.0,>=1.34.1->google-cloud-aiplatform) (3.4.3)\n",
            "Requirement already satisfied: idna<4,>=2.5 in /usr/local/lib/python3.11/dist-packages (from requests<3.0.0,>=2.18.0->google-api-core!=2.0.*,!=2.1.*,!=2.2.*,!=2.3.*,!=2.4.*,!=2.5.*,!=2.6.*,!=2.7.*,<3.0.0,>=1.34.1->google-api-core[grpc]!=2.0.*,!=2.1.*,!=2.2.*,!=2.3.*,!=2.4.*,!=2.5.*,!=2.6.*,!=2.7.*,<3.0.0,>=1.34.1->google-cloud-aiplatform) (3.10)\n",
            "Requirement already satisfied: urllib3<3,>=1.21.1 in /usr/local/lib/python3.11/dist-packages (from requests<3.0.0,>=2.18.0->google-api-core!=2.0.*,!=2.1.*,!=2.2.*,!=2.3.*,!=2.4.*,!=2.5.*,!=2.6.*,!=2.7.*,<3.0.0,>=1.34.1->google-api-core[grpc]!=2.0.*,!=2.1.*,!=2.2.*,!=2.3.*,!=2.4.*,!=2.5.*,!=2.6.*,!=2.7.*,<3.0.0,>=1.34.1->google-cloud-aiplatform) (2.5.0)\n",
            "Requirement already satisfied: certifi>=2017.4.17 in /usr/local/lib/python3.11/dist-packages (from requests<3.0.0,>=2.18.0->google-api-core!=2.0.*,!=2.1.*,!=2.2.*,!=2.3.*,!=2.4.*,!=2.5.*,!=2.6.*,!=2.7.*,<3.0.0,>=1.34.1->google-api-core[grpc]!=2.0.*,!=2.1.*,!=2.2.*,!=2.3.*,!=2.4.*,!=2.5.*,!=2.6.*,!=2.7.*,<3.0.0,>=1.34.1->google-cloud-aiplatform) (2025.8.3)\n",
            "Requirement already satisfied: anyio<5.0.0,>=4.8.0 in /usr/local/lib/python3.11/dist-packages (from google-genai<2.0.0,>=1.0.0->google-cloud-aiplatform) (4.10.0)\n",
            "Requirement already satisfied: httpx<1.0.0,>=0.28.1 in /usr/local/lib/python3.11/dist-packages (from google-genai<2.0.0,>=1.0.0->google-cloud-aiplatform) (0.28.1)\n",
            "Requirement already satisfied: tenacity<9.2.0,>=8.2.3 in /usr/local/lib/python3.11/dist-packages (from google-genai<2.0.0,>=1.0.0->google-cloud-aiplatform) (9.1.2)\n",
            "Requirement already satisfied: websockets<15.1.0,>=13.0.0 in /usr/local/lib/python3.11/dist-packages (from google-genai<2.0.0,>=1.0.0->google-cloud-aiplatform) (15.0.1)\n",
            "Requirement already satisfied: sniffio>=1.1 in /usr/local/lib/python3.11/dist-packages (from anyio<5.0.0,>=4.8.0->google-genai<2.0.0,>=1.0.0->google-cloud-aiplatform) (1.3.1)\n",
            "Requirement already satisfied: httpcore==1.* in /usr/local/lib/python3.11/dist-packages (from httpx<1.0.0,>=0.28.1->google-genai<2.0.0,>=1.0.0->google-cloud-aiplatform) (1.0.9)\n",
            "Requirement already satisfied: h11>=0.16 in /usr/local/lib/python3.11/dist-packages (from httpcore==1.*->httpx<1.0.0,>=0.28.1->google-genai<2.0.0,>=1.0.0->google-cloud-aiplatform) (0.16.0)\n"
          ]
        }
      ]
    },
    {
      "cell_type": "code",
      "source": [
        "# %%\n",
        "import vertexai\n",
        "from vertexai.preview.generative_models import GenerativeModel\n",
        "from pyspark.sql import SparkSession\n",
        "import math\n",
        "\n",
        "# %%\n",
        "# -----------------------------\n",
        "# SPARK SESSION\n",
        "# -----------------------------\n",
        "spark = SparkSession.builder \\\n",
        "    .appName(\"TransactionTipsBatch\") \\\n",
        "    .getOrCreate()"
      ],
      "metadata": {
        "id": "I-VV8iAj1zXK"
      },
      "execution_count": 2,
      "outputs": []
    },
    {
      "cell_type": "code",
      "source": [
        "# -----------------------------\n",
        "# CONFIG\n",
        "# -----------------------------\n",
        "PROJECT_ID = \"mymoneytracker-471819\"\n",
        "LOCATION = \"us-central1\"\n",
        "MODEL_NAME = \"gemini-2.5-flash\"\n",
        "CSV_INPUT = \"transactions.csv\"\n",
        "OUTPUT_DIR = \"transactions_with_tips_batched\"\n",
        "\n",
        "# Init Vertex AI\n",
        "vertexai.init(project=PROJECT_ID, location=LOCATION)\n",
        "\n",
        "# Load Gemini model once\n",
        "model = GenerativeModel(model_name=MODEL_NAME)\n",
        "\n",
        "# %%\n",
        "# -----------------------------\n",
        "# Load transactions\n",
        "# -----------------------------\n",
        "df = spark.read.csv(CSV_INPUT, header=True, inferSchema=True)\n",
        "transactions = df.collect()\n",
        "\n",
        "print(f\"Loaded {len(transactions)} transactions.\")\n",
        "\n",
        "# %%\n",
        "# -----------------------------\n",
        "# Batch function\n",
        "# -----------------------------\n",
        "def generate_tips_batch(transaction_batch):\n",
        "    \"\"\"\n",
        "    Takes a list of Spark Row objects and returns a list of tips.\n",
        "    \"\"\"\n",
        "    # Build prompt with multiple transactions\n",
        "    prompt = \"You are a financial advisor. For each transaction, provide one short, practical financial tip.\\n\\n\"\n",
        "    for idx, txn in enumerate(transaction_batch, start=1):\n",
        "        prompt += f\"Transaction {idx}: Description={txn['Description']}, Category={txn['Category']}, Amount={txn['Amount']}\\n\"\n",
        "\n",
        "    prompt += \"\\nReturn the tips as a numbered list matching the transaction numbers.\"\n",
        "\n",
        "    response = model.generate_content(prompt)\n",
        "    text = response.text.strip()\n",
        "\n",
        "    # Parse numbered list output into tips\n",
        "    tips = []\n",
        "    for line in text.split(\"\\n\"):\n",
        "        if line.strip() and (line[0].isdigit() or line.startswith(\"-\")):\n",
        "            # Example: \"1. Coffee spending is high...\" → extract tip\n",
        "            tip = line.split(\".\", 1)[-1].strip()\n",
        "            tips.append(tip)\n",
        "\n",
        "    # Safety check: align lengths\n",
        "    if len(tips) != len(transaction_batch):\n",
        "        print(\"⚠️ Warning: Mismatch in generated tips count, filling missing with blank\")\n",
        "        while len(tips) < len(transaction_batch):\n",
        "            tips.append(\"No tip generated\")\n",
        "\n",
        "    return tips"
      ],
      "metadata": {
        "colab": {
          "base_uri": "https://localhost:8080/"
        },
        "id": "AfefG7RI1znW",
        "outputId": "bea35e57-5d72-449a-a9f2-072f05b0587f"
      },
      "execution_count": 3,
      "outputs": [
        {
          "output_type": "stream",
          "name": "stdout",
          "text": [
            "Loaded 326 transactions.\n"
          ]
        }
      ]
    },
    {
      "cell_type": "code",
      "source": [
        "# %%\n",
        "# -----------------------------\n",
        "# Process in batches\n",
        "# -----------------------------\n",
        "BATCH_SIZE = 10\n",
        "num_batches = math.ceil(len(transactions) / BATCH_SIZE)\n",
        "\n",
        "results = []\n",
        "for b in range(num_batches):\n",
        "    batch_txns = transactions[b*BATCH_SIZE : (b+1)*BATCH_SIZE]\n",
        "    tips = generate_tips_batch(batch_txns)\n",
        "    for txn, tip in zip(batch_txns, tips):\n",
        "        row_with_tip = txn.asDict()\n",
        "        row_with_tip[\"Financial_Tip\"] = tip\n",
        "        results.append(row_with_tip)\n",
        "    print(f\"✅ Processed batch {b+1}/{num_batches}\")"
      ],
      "metadata": {
        "colab": {
          "base_uri": "https://localhost:8080/"
        },
        "id": "zAm5TAVW1z01",
        "outputId": "9dbebff5-92b0-46ab-88ad-c9ab53c205cf"
      },
      "execution_count": 4,
      "outputs": [
        {
          "output_type": "stream",
          "name": "stdout",
          "text": [
            "✅ Processed batch 1/33\n",
            "✅ Processed batch 2/33\n",
            "✅ Processed batch 3/33\n",
            "✅ Processed batch 4/33\n",
            "✅ Processed batch 5/33\n",
            "✅ Processed batch 6/33\n",
            "✅ Processed batch 7/33\n",
            "✅ Processed batch 8/33\n",
            "✅ Processed batch 9/33\n",
            "✅ Processed batch 10/33\n",
            "✅ Processed batch 11/33\n",
            "✅ Processed batch 12/33\n",
            "✅ Processed batch 13/33\n",
            "✅ Processed batch 14/33\n",
            "✅ Processed batch 15/33\n",
            "✅ Processed batch 16/33\n",
            "✅ Processed batch 17/33\n",
            "✅ Processed batch 18/33\n",
            "✅ Processed batch 19/33\n",
            "✅ Processed batch 20/33\n",
            "✅ Processed batch 21/33\n",
            "✅ Processed batch 22/33\n",
            "✅ Processed batch 23/33\n",
            "✅ Processed batch 24/33\n",
            "✅ Processed batch 25/33\n",
            "✅ Processed batch 26/33\n",
            "✅ Processed batch 27/33\n",
            "✅ Processed batch 28/33\n",
            "✅ Processed batch 29/33\n",
            "✅ Processed batch 30/33\n",
            "✅ Processed batch 31/33\n",
            "✅ Processed batch 32/33\n",
            "✅ Processed batch 33/33\n"
          ]
        }
      ]
    },
    {
      "cell_type": "code",
      "source": [
        "# %%\n",
        "# -----------------------------\n",
        "# Save results back to Spark\n",
        "# -----------------------------\n",
        "results_df = spark.createDataFrame(results)\n",
        "results_df.show(5, truncate=False)"
      ],
      "metadata": {
        "colab": {
          "base_uri": "https://localhost:8080/"
        },
        "id": "VeC3Qixm10EC",
        "outputId": "9c8031af-9c8c-44c5-81ed-903768550e5c"
      },
      "execution_count": 9,
      "outputs": [
        {
          "output_type": "stream",
          "name": "stdout",
          "text": [
            "+-------+------+-----------+----------+-------------------+------------------------------------------------------------------------------------------------+--------------+----+\n",
            "|Account|Amount|Category   |Date      |Description        |Financial_Tip                                                                                   |Location      |_c6 |\n",
            "+-------+------+-----------+----------+-------------------+------------------------------------------------------------------------------------------------+--------------+----+\n",
            "|A123   |50.0  | Groceries |01/01/2023| Grocery Shopping  |**Grocery Shopping:** Plan your meals and make a grocery list to avoid impulse purchases.       | New York     |NULL|\n",
            "|B456   |30.0  | Fuel      |02/01/2023| Gasoline Refill   |**Gasoline Refill:** Combine errands and drive efficiently to conserve fuel.                    | Los Angeles  |NULL|\n",
            "|C789   |100.0 | Dining Out|03/01/2023| Restaurant Dinner |**Restaurant Dinner:** Set a monthly dining-out budget and consider cooking at home more often. | Chicago      |NULL|\n",
            "|A123   |500.0 | Income    |04/01/2023| Paycheck Deposit  |**Paycheck Deposit:** Automate a portion of your income into savings before spending.           | San Francisco|NULL|\n",
            "|B456   |60.0  | Utilities |05/01/2023| Phone Bill Payment|**Phone Bill Payment:** Review your phone plan annually to ensure you're getting the best value.| San Francisco|NULL|\n",
            "+-------+------+-----------+----------+-------------------+------------------------------------------------------------------------------------------------+--------------+----+\n",
            "only showing top 5 rows\n",
            "\n"
          ]
        }
      ]
    },
    {
      "cell_type": "code",
      "source": [
        "# %%\n",
        "# -----------------------------\n",
        "# TRAIN / TEST SPLIT\n",
        "# -----------------------------\n",
        "train_df, test_df = results_df.randomSplit([0.8, 0.2], seed=42)\n",
        "\n",
        "print(f\"Training set size: {train_df.count()} rows\")\n",
        "print(f\"Test set size: {test_df.count()} rows\")"
      ],
      "metadata": {
        "colab": {
          "base_uri": "https://localhost:8080/"
        },
        "id": "U3RSK0oA3_IO",
        "outputId": "a521496e-bcce-4e00-dac9-15b0cffa7083"
      },
      "execution_count": 10,
      "outputs": [
        {
          "output_type": "stream",
          "name": "stdout",
          "text": [
            "Training set size: 255 rows\n",
            "Test set size: 71 rows\n"
          ]
        }
      ]
    },
    {
      "cell_type": "code",
      "source": [
        "# -----------------------------\n",
        "# SAVE AS SINGLE CSV FILES\n",
        "# -----------------------------\n",
        "train_output_dir = OUTPUT_DIR + \"_train\"\n",
        "test_output_dir = OUTPUT_DIR + \"_test\"\n",
        "\n",
        "# Save training set to a single CSV\n",
        "train_df.coalesce(1).write.mode(\"overwrite\").option(\"header\", True).csv(train_output_dir)\n",
        "\n",
        "# Save test set to a single CSV\n",
        "test_df.coalesce(1).write.mode(\"overwrite\").option(\"header\", True).csv(test_output_dir)\n",
        "\n",
        "print(f\"✅ Training dataset saved as single CSV under {train_output_dir}\")\n",
        "print(f\"✅ Test dataset saved as single CSV under {test_output_dir}\")"
      ],
      "metadata": {
        "colab": {
          "base_uri": "https://localhost:8080/"
        },
        "id": "ipZSfSFN4BmQ",
        "outputId": "bc1e8eb5-af62-4083-ea51-32402ebde25f"
      },
      "execution_count": 11,
      "outputs": [
        {
          "output_type": "stream",
          "name": "stdout",
          "text": [
            "✅ Training dataset saved as single CSV under transactions_with_tips_batched_train\n",
            "✅ Test dataset saved as single CSV under transactions_with_tips_batched_test\n"
          ]
        }
      ]
    }
  ]
}